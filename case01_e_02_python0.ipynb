{
  "nbformat": 4,
  "nbformat_minor": 0,
  "metadata": {
    "colab": {
      "provenance": [],
      "authorship_tag": "ABX9TyMzk5J9yF7Z6bdJMlJZP+OG",
      "include_colab_link": true
    },
    "kernelspec": {
      "name": "python3",
      "display_name": "Python 3"
    },
    "language_info": {
      "name": "python"
    }
  },
  "cells": [
    {
      "cell_type": "markdown",
      "metadata": {
        "id": "view-in-github",
        "colab_type": "text"
      },
      "source": [
        "<a href=\"https://colab.research.google.com/github/IvanAnholete/arquivos-legais/blob/main/case01_e_02_python0.ipynb\" target=\"_parent\"><img src=\"https://colab.research.google.com/assets/colab-badge.svg\" alt=\"Open In Colab\"/></a>"
      ]
    },
    {
      "cell_type": "code",
      "execution_count": null,
      "metadata": {
        "colab": {
          "base_uri": "https://localhost:8080/"
        },
        "id": "CeyaI3mAGEzA",
        "outputId": "138d7306-289f-4b27-d05f-b7918ea4c7ce"
      },
      "outputs": [
        {
          "output_type": "stream",
          "name": "stdout",
          "text": [
            "[200, 600, 720, 1500, 1000, 275, 990, 1200, 2400, 200]\n",
            "[10, 30, 40, 30, 10, 25, 33, 12, 12, 20]\n",
            "[20, 20, 18, 50, 100, 11, 30, 100, 200, 10]\n"
          ]
        }
      ],
      "source": [
        "area = [200,'null',720,1500,1000,275,'null',1200,2400,'null'] \n",
        "altura = ['null',30,40,30,10,25,33,'null',12,20] \n",
        "largura = [20,20,'null',50,100,'null',30,100,200,10]\n",
        "areaFull = []\n",
        "alturaFull = []\n",
        "larguraFull = []\n",
        "\n",
        "for v1,v2,v3 in zip(area,altura,largura):\n",
        "  if type(v1) != int:\n",
        "    areaFull.append(int(v2*v3))\n",
        "  else: \n",
        "    areaFull.append(v1)\n",
        "  if type(v2) != int:\n",
        "    alturaFull.append(int(v1/v3))\n",
        "  else:\n",
        "    alturaFull.append(v2)\n",
        "  if type(v3) != int:\n",
        "    larguraFull.append(int(v1/v2))\n",
        "  else:\n",
        "    larguraFull.append(v3)\n",
        "\n",
        "print(areaFull)\n",
        "print(alturaFull)\n",
        "print(larguraFull)"
      ]
    },
    {
      "cell_type": "code",
      "source": [
        "def areaautomate (a,h,b):\n",
        "  areaFull = []\n",
        "  alturaFull = []\n",
        "  larguraFull = []\n",
        "  for v1,v2,v3 in zip(a,h,b):\n",
        "    if type(v1) != int:\n",
        "      areaFull.append(int(v2*v3))\n",
        "    else: \n",
        "      areaFull.append(v1)\n",
        "    if type(v2) != int:\n",
        "      alturaFull.append(int(v1/v3))\n",
        "    else:\n",
        "      alturaFull.append(v2)\n",
        "    if type(v3) != int:\n",
        "      larguraFull.append(int(v1/v2))\n",
        "    else:\n",
        "      larguraFull.append(v3)\n",
        "\n",
        "  return areaFull,alturaFull,larguraFull\n",
        "\n",
        "(x,y,z) = areaautomate (area,altura,largura)\n",
        "print(x)\n",
        "print(y)\n",
        "print(z)\n"
      ],
      "metadata": {
        "colab": {
          "base_uri": "https://localhost:8080/"
        },
        "id": "eKAAEOHtMk4u",
        "outputId": "85ec7815-2211-4857-9fa2-42134a20fd85"
      },
      "execution_count": null,
      "outputs": [
        {
          "output_type": "stream",
          "name": "stdout",
          "text": [
            "[200, 600, 720, 1500, 1000, 275, 990, 1200, 2400, 200]\n",
            "[10, 30, 40, 30, 10, 25, 33, 12, 12, 20]\n",
            "[20, 20, 18, 50, 100, 11, 30, 100, 200, 10]\n"
          ]
        }
      ]
    },
    {
      "cell_type": "code",
      "source": [
        "a =['dnc','abc','bnc','mnc','dnc','bnc','Dnc','ncd','dnc','dncdnc','ddnc'] \n",
        "b =['dnc','abc','bnc','mnc','dnc','bnc','Dnc','ncd','dnc','dncdnc','ddnc','xms','cds','dn','cdn','dnc','xml','a'] \n",
        "contador = 0\n",
        "igual = 0\n",
        "\n",
        "for c,d in zip(a,b):\n",
        "    if c == 'dnc' and d == 'dnc':\n",
        "      igual += 1\n",
        "    else:\n",
        "      contador += 1\n",
        "print(f'O número de vezes que dnc aparece é: {igual}')"
      ],
      "metadata": {
        "colab": {
          "base_uri": "https://localhost:8080/"
        },
        "id": "xJ8DbfDHq7sF",
        "outputId": "a12d3626-4d6e-4684-8583-e59dd687e896"
      },
      "execution_count": null,
      "outputs": [
        {
          "output_type": "stream",
          "name": "stdout",
          "text": [
            "O número de vezes que dnc aparece é: 3\n"
          ]
        }
      ]
    },
    {
      "cell_type": "code",
      "source": [
        "\n",
        "def contador(a,b,x):\n",
        "  diferente = 0\n",
        "  igual = 0\n",
        "  for c,d in zip(a,b):\n",
        "    if c == x and d == x: \n",
        "      igual +=1\n",
        "    else: \n",
        "      diferente +=1\n",
        "  return igual, diferente\n",
        "\n",
        "a =['dnc','abc','bnc','mnc','dnc','bnc','Dnc','ncd','dnc','dncdnc','ddnc'] \n",
        "b =['dnc','abc','bnc','mnc','dnc','bnc','Dnc','ncd','dnc','dncdnc','ddnc','xms','cds','dn','cdn','dnc','xml','a'] \n",
        "\n",
        "(x,y) = contador(a,b,'dnc')\n",
        "\n",
        "print(x)\n",
        "print(y)\n",
        "\n",
        "    "
      ],
      "metadata": {
        "colab": {
          "base_uri": "https://localhost:8080/"
        },
        "id": "wk9HHcExtOMZ",
        "outputId": "4753fda7-16b4-43f3-bf6f-f52b774f356d"
      },
      "execution_count": null,
      "outputs": [
        {
          "output_type": "stream",
          "name": "stdout",
          "text": [
            "3\n",
            "8\n"
          ]
        }
      ]
    },
    {
      "cell_type": "code",
      "source": [
        "feedback = [{'nome':'Peter','nota':9,'genero':'M','comentario':'bom demais e agil'}, \n",
        "                     {'nome':'Joao','nota':10,'genero':'M','comentario':'agil e eficiente'}, \n",
        "                     {'nome':'user_not_found','nota':0,'genero':'M','comentario':'Horrível'}, \n",
        "                     {'nome':'Marta','nota':10,'genero':'F','comentario':'muito agil bom demais'}, \n",
        "                     {'nome':'Beatriz','nota':10,'genero':'F','comentario':'rápido e eficaz'}, \n",
        "                     {'nome':'user_not_found','nota':2,'genero':'M','comentario':'ruim'}, \n",
        "                     {'nome':'Jéssica','nota':10,'genero':'F','comentario':'agil'}, \n",
        "                     {'nome':'José','nota':7,'genero':'M','comentario':'ok'}, \n",
        "                     {'nome':'Elias','nota':5,'genero':'M','comentario':'precisa melhorar'}, \n",
        "                     {'nome':'Miriã','nota':9,'genero':'F','comentario':'foi muito agil e rápido'}, \n",
        "                     {'nome':'Maria','nota':10,'genero':'F','comentario':'muito bom e agil'}]\n",
        "\n",
        "palavrasFull = []\n",
        "def contar (x):\n",
        "  for p in x: \n",
        "      palavrasFull.extend(p['comentario'].split())\n",
        "      uniqwords = sorted(set(palavrasFull))\n",
        "  for word in uniqwords:\n",
        "    if word != 'e':\n",
        "      print(palavrasFull.count(word), word)\n",
        "  print(palavrasFull)\n",
        "\n",
        "contar(feedback)\n"
      ],
      "metadata": {
        "colab": {
          "base_uri": "https://localhost:8080/"
        },
        "id": "RfBJ45XHEwEm",
        "outputId": "edc02f20-d306-46bf-831f-09184c672a41"
      },
      "execution_count": null,
      "outputs": [
        {
          "output_type": "stream",
          "name": "stdout",
          "text": [
            "1 Horrível\n",
            "6 agil\n",
            "3 bom\n",
            "2 demais\n",
            "1 eficaz\n",
            "1 eficiente\n",
            "1 foi\n",
            "1 melhorar\n",
            "3 muito\n",
            "1 ok\n",
            "1 precisa\n",
            "1 ruim\n",
            "2 rápido\n",
            "['bom', 'demais', 'e', 'agil', 'agil', 'e', 'eficiente', 'Horrível', 'muito', 'agil', 'bom', 'demais', 'rápido', 'e', 'eficaz', 'ruim', 'agil', 'ok', 'precisa', 'melhorar', 'foi', 'muito', 'agil', 'e', 'rápido', 'muito', 'bom', 'e', 'agil']\n"
          ]
        }
      ]
    },
    {
      "cell_type": "code",
      "source": [
        "def media (x):\n",
        "  m = []\n",
        "  f = []\n",
        "  mediaF = []\n",
        "  mediaM = []\n",
        "  for a in feedback:\n",
        "    if a['genero'] == 'M':\n",
        "      m.append(a['nota'])\n",
        "      #mediaM += int((sum(m))/(len(m)))\n",
        "    elif a['genero'] == 'F':\n",
        "      f.append(a['nota'])\n",
        "      #mediaF = int((sum(f))/(len(f)))\n",
        "  print('A média femina foi de:', sum(f)/len(f), 'A média masculina foi de:', sum(m)/len(m))\n",
        "  return m,f\n",
        "\n",
        "y,z = media(feedback)\n",
        "print(y)\n",
        "print(z)\n"
      ],
      "metadata": {
        "colab": {
          "base_uri": "https://localhost:8080/"
        },
        "id": "qrqr_PR-YsC9",
        "outputId": "cb8c927a-1e62-41ae-a040-ed6f8958e77f"
      },
      "execution_count": null,
      "outputs": [
        {
          "output_type": "stream",
          "name": "stdout",
          "text": [
            "A média femina foi de: 9.8 A média masculina foi de: 5.5\n",
            "[9, 10, 0, 2, 7, 5]\n",
            "[10, 10, 10, 9, 10]\n"
          ]
        }
      ]
    },
    {
      "cell_type": "code",
      "source": [
        "cont = 0\n",
        "dif = 0\n",
        "user_null = []\n",
        "for p in feedback:\n",
        "  if p['nome'] == 'user_not_found':\n",
        "    print(p)\n",
        "    print(type(p))\n",
        "    user_null.append(p)\n",
        "    cont += 1\n",
        "  else: \n",
        "    dif += 1\n",
        "print(f'A quantidade total de usuários encontrados foi de: {cont+dif}, sendo que {cont} não possuem nome registrado')\n",
        "print(len(user_null))"
      ],
      "metadata": {
        "colab": {
          "base_uri": "https://localhost:8080/"
        },
        "id": "17W5Lt8SqY4A",
        "outputId": "80eff847-6bfe-4d99-e940-bfa9e553507b"
      },
      "execution_count": null,
      "outputs": [
        {
          "output_type": "stream",
          "name": "stdout",
          "text": [
            "{'nome': 'user_not_found', 'nota': 0, 'genero': 'M', 'comentario': 'Horrível'}\n",
            "<class 'dict'>\n",
            "{'nome': 'user_not_found', 'nota': 2, 'genero': 'M', 'comentario': 'ruim'}\n",
            "<class 'dict'>\n",
            "A quantidade total de usuários encontrados foi de: 11, sendo que 2 não possuem nome registrado\n",
            "2\n"
          ]
        }
      ]
    },
    {
      "cell_type": "markdown",
      "source": [
        "No case 02 foi aprendido a utilidade da função .extend, e a diferença dele para o append. O append cria uma lista com as palavras de cada posição que vc deseja adicionar na lista, ou seja, resulta em uma lista dentro de outra lista. Já o extend junta todas as palavras em uma única lista.\n",
        "\n",
        "Tbm foi aprendido a utilidade do .split (transformar todas as palavras em itens de uma lista) ex: l0 = ['fui jogar'] ---> l1 = l0.split() ----> l1 = ['fui', 'jogar']."
      ],
      "metadata": {
        "id": "B1ROhtX5yXI1"
      }
    },
    {
      "cell_type": "code",
      "source": [],
      "metadata": {
        "id": "93VxDj930noL"
      },
      "execution_count": null,
      "outputs": []
    },
    {
      "cell_type": "code",
      "source": [
        "treinamentos = [{'treinamento':'Scrum','moedas':30}, \n",
        "                {'treinamento':'Data Science','moedas':40}, \n",
        "                {'treinamento':'Gestão de Projetos','moedas':50}, \n",
        "                {'treinamento':'Marketing','moedas':30}, \n",
        "                {'treinamento':'Cloud','moedas':20}, \n",
        "                {'treinamento':'Blockchain','moedas':10}, \n",
        "                {'treinamento':'Python','moedas':30}] \n",
        "pedidos = ['Scrum','Data Science','Gestão de Projetos','Marketing','Cloud','Python','Python','Python', 'Scrum','Data Science','Gestão de Projetos','Marketing','Data Science','Gestão de Projetos', 'Python','Marketing','Data Science','Gestão de Projetos','Data Science','Gestão de Projetos','Data Science']\n",
        "pedido_unitario = 0\n",
        "uniqbase = sorted(set(pedidos))\n",
        "totalTodas = 0\n",
        "for w in uniqbase:\n",
        "  pedido_unitario = pedidos.count(w)\n",
        "  \n",
        "  print(pedidos.count(w),'-'*5, w)\n",
        "  for p in treinamentos: \n",
        "    if w == p['treinamento']:\n",
        "      totalMoedas = pedido_unitario * p['moedas']\n",
        "      totalTodas += totalMoedas\n",
        "      print(totalMoedas, w)\n",
        "print(totalTodas)\n",
        "print(uniqbase)\n",
        "\n",
        "budget = 150\n",
        "saldo = 0 \n",
        "\n",
        "for p in treinamentos: \n",
        "    for w in uniqbase:\n",
        "      pedido = uniqbase.count(w)\n",
        "\n",
        "print(pedido_unitario2)"
      ],
      "metadata": {
        "colab": {
          "base_uri": "https://localhost:8080/",
          "height": 235
        },
        "id": "Ia0B8Xqb0qIa",
        "outputId": "47150b64-59a8-42c4-865e-81920690c636"
      },
      "execution_count": null,
      "outputs": [
        {
          "output_type": "error",
          "ename": "TypeError",
          "evalue": "ignored",
          "traceback": [
            "\u001b[0;31m---------------------------------------------------------------------------\u001b[0m",
            "\u001b[0;31mTypeError\u001b[0m                                 Traceback (most recent call last)",
            "\u001b[0;32m<ipython-input-8-b7aca325a9bb>\u001b[0m in \u001b[0;36m<module>\u001b[0;34m\u001b[0m\n\u001b[1;32m     13\u001b[0m \u001b[0;32mfor\u001b[0m \u001b[0mw\u001b[0m \u001b[0;32min\u001b[0m \u001b[0muniqbase\u001b[0m\u001b[0;34m:\u001b[0m\u001b[0;34m\u001b[0m\u001b[0;34m\u001b[0m\u001b[0m\n\u001b[1;32m     14\u001b[0m   \u001b[0mpedido_unitario\u001b[0m \u001b[0;34m=\u001b[0m \u001b[0mpedidos\u001b[0m\u001b[0;34m.\u001b[0m\u001b[0mcount\u001b[0m\u001b[0;34m(\u001b[0m\u001b[0mw\u001b[0m\u001b[0;34m)\u001b[0m\u001b[0;34m\u001b[0m\u001b[0;34m\u001b[0m\u001b[0m\n\u001b[0;32m---> 15\u001b[0;31m   \u001b[0mpedido_unitario2\u001b[0m \u001b[0;34m=\u001b[0m \u001b[0mlist\u001b[0m\u001b[0;34m(\u001b[0m\u001b[0mpedidos\u001b[0m\u001b[0;34m.\u001b[0m\u001b[0mcount\u001b[0m\u001b[0;34m(\u001b[0m\u001b[0mw\u001b[0m\u001b[0;34m)\u001b[0m\u001b[0;34m)\u001b[0m\u001b[0;34m\u001b[0m\u001b[0;34m\u001b[0m\u001b[0m\n\u001b[0m\u001b[1;32m     16\u001b[0m   \u001b[0mprint\u001b[0m\u001b[0;34m(\u001b[0m\u001b[0mpedidos\u001b[0m\u001b[0;34m.\u001b[0m\u001b[0mcount\u001b[0m\u001b[0;34m(\u001b[0m\u001b[0mw\u001b[0m\u001b[0;34m)\u001b[0m\u001b[0;34m,\u001b[0m\u001b[0;34m'-'\u001b[0m\u001b[0;34m*\u001b[0m\u001b[0;36m5\u001b[0m\u001b[0;34m,\u001b[0m \u001b[0mw\u001b[0m\u001b[0;34m)\u001b[0m\u001b[0;34m\u001b[0m\u001b[0;34m\u001b[0m\u001b[0m\n\u001b[1;32m     17\u001b[0m   \u001b[0;32mfor\u001b[0m \u001b[0mp\u001b[0m \u001b[0;32min\u001b[0m \u001b[0mtreinamentos\u001b[0m\u001b[0;34m:\u001b[0m\u001b[0;34m\u001b[0m\u001b[0;34m\u001b[0m\u001b[0m\n",
            "\u001b[0;31mTypeError\u001b[0m: 'int' object is not iterable"
          ]
        }
      ]
    }
  ]
}